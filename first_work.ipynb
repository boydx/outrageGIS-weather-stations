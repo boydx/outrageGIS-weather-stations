{
 "cells": [
  {
   "cell_type": "code",
   "execution_count": 2,
   "metadata": {},
   "outputs": [],
   "source": [
    "import subprocess\n"
   ]
  },
  {
   "cell_type": "code",
   "execution_count": 4,
   "metadata": {},
   "outputs": [
    {
     "data": {
      "text/plain": [
       "CompletedProcess(args='ls -l', returncode=0, stdout=b'total 56\\n-rw-r--r--   1 boyd  staff  14684 Aug  8 17:48 PITCHME.md\\n-rw-r--r--   1 boyd  staff    176 Feb 12 11:24 PITCHME.yaml\\n-rw-r--r--   1 boyd  staff   3487 Feb 11 13:14 README.md\\n-rw-r--r--   1 boyd  staff   1669 Aug  9 09:48 Untitled.ipynb\\ndrwxr-xr-x   9 boyd  staff    288 Feb 11 12:56 animation\\ndrwxr-xr-x  17 boyd  staff    544 Aug  8 14:03 make\\ndrwxr-xr-x   5 boyd  staff    160 Feb 11 18:12 presentation\\n')"
      ]
     },
     "execution_count": 4,
     "metadata": {},
     "output_type": "execute_result"
    }
   ],
   "source": [
    "subprocess.run([\"ls\", \"-l\"], stdout=subprocess.PIPE)\n",
    "# compared to \n",
    "subprocess.run(\"ls -l\", shell=True, stdout=subprocess.PIPE)\n"
   ]
  },
  {
   "cell_type": "code",
   "execution_count": null,
   "metadata": {},
   "outputs": [],
   "source": []
  }
 ],
 "metadata": {
  "kernelspec": {
   "display_name": "Python 3",
   "language": "python",
   "name": "python3"
  },
  "language_info": {
   "codemirror_mode": {
    "name": "ipython",
    "version": 3
   },
   "file_extension": ".py",
   "mimetype": "text/x-python",
   "name": "python",
   "nbconvert_exporter": "python",
   "pygments_lexer": "ipython3",
   "version": "3.7.1"
  }
 },
 "nbformat": 4,
 "nbformat_minor": 2
}
